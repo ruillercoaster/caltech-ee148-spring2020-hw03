{
 "cells": [
  {
   "cell_type": "code",
   "execution_count": 10,
   "metadata": {},
   "outputs": [],
   "source": [
    "\n",
    "from __future__ import print_function\n",
    "import argparse\n",
    "import torch\n",
    "import torch.nn as nn\n",
    "import torch.nn.functional as F\n",
    "import torch.optim as optim\n",
    "from torchvision import datasets, transforms\n",
    "from torch.optim.lr_scheduler import StepLR\n",
    "from torch.utils.data.sampler import SubsetRandomSampler\n",
    "\n",
    "import numpy as np\n",
    "import os\n",
    "import csv\n",
    "from matplotlib import pyplot as plt\n",
    "import numpy as np"
   ]
  },
  {
   "cell_type": "markdown",
   "metadata": {},
   "source": [
    "# 7"
   ]
  },
  {
   "cell_type": "code",
   "execution_count": 33,
   "metadata": {},
   "outputs": [],
   "source": [
    "train_dataset_aug = datasets.MNIST('./data', train=True, download=True,\n",
    "                    transform=transforms.Compose([       # Data preprocessing\n",
    "    #                     transforms.RandomResizedCrop(28,scale=(0.9,1.1)),\n",
    "    #                     transforms.RandomRotation(3),\n",
    "                        transforms.RandomAffine(3, scale=(0.9,1.1),shear=3),\n",
    "                        transforms.ToTensor(),           # Add data augmentation here\n",
    "                        transforms.Normalize((0.1307,), (0.3081,))\n",
    "                    ]))\n",
    "train_loader_all_aug = torch.utils.data.DataLoader(train_dataset_aug)\n",
    "N = []\n",
    "for k in [1, 2, 4, 8, 16]:\n",
    "    \n",
    "    examples = enumerate(train_loader_all_aug)\n",
    "    train_raw_idx = []\n",
    "    train_raw_target = []\n",
    "    for i in examples:\n",
    "            train_raw_idx.append(i[0])\n",
    "            train_raw_target.append(i[1][1].numpy()[0])\n",
    "    target_keys  = list(set(train_raw_target))\n",
    "    train_raw_target = np.array(train_raw_target)\n",
    "    train_raw_idx = np.array(train_raw_idx)\n",
    "\n",
    "    target_idx = {}\n",
    "    val_idx = {}\n",
    "    train_idx = {}\n",
    "    subset_indices_train = []\n",
    "    for i in target_keys:\n",
    "        np.random.seed(i)\n",
    "        target_idx[i] = train_raw_idx[np.where(train_raw_target==i)[0]]\n",
    "        np.random.shuffle(target_idx[i])\n",
    "    #     print(np.all(train_raw_target[target_idx[i]]==i))\n",
    "        split_point= int(0.15 * len(target_idx[i]))\n",
    "        train_idx[i] = target_idx[i][split_point:]\n",
    "        split_point = int(len(train_idx[i])/k)\n",
    "        train_idx[i] = train_idx[i][:split_point]\n",
    "    #     print(len(target_idx[i]) == len(val_idx[i])+len(train_idx[i]))\n",
    "    #     print(len(val_idx[i])/len(target_idx[i]))\n",
    "        subset_indices_train = subset_indices_train + list(train_idx[i])\n",
    "    N.append(len(subset_indices_train))"
   ]
  },
  {
   "cell_type": "code",
   "execution_count": 34,
   "metadata": {},
   "outputs": [
    {
     "data": {
      "text/plain": [
       "[51005, 25500, 12747, 6371, 3183]"
      ]
     },
     "execution_count": 34,
     "metadata": {},
     "output_type": "execute_result"
    }
   ],
   "source": [
    "N"
   ]
  },
  {
   "cell_type": "code",
   "execution_count": 128,
   "metadata": {},
   "outputs": [],
   "source": [
    "TRAIN_ACCURACY = []; TEST_ACCURACY=[];TRAIN_LOSS=[];TEST_LOSS=[]\n",
    "epoch_ref = '10'\n",
    "with open('./figures/Net_aug_full.csv','r') as csvfile:\n",
    "    spamreader = csv.reader(csvfile,delimiter=' ')\n",
    "    for row in spamreader:\n",
    "        if row[0] == epoch_ref:\n",
    "            train_accuracy = float(row[1])\n",
    "            val_accuracy = float(row[2])\n",
    "            train_loss = float(row[3])\n",
    "            val_loss = float(row[4])\n",
    "ct = 0\n",
    "with open('./figures/best_Net_test_full.csv','r') as csvfile:\n",
    "    spamreader = csv.reader(csvfile,delimiter=' ')\n",
    "    for row in spamreader:\n",
    "        if ct == 1:\n",
    "            test_accuracy = float(row[0])\n",
    "            test_loss = float(row[1])\n",
    "        ct = ct+1\n",
    "TRAIN_ACCURACY.append(train_accuracy)\n",
    "TRAIN_LOSS.append(train_loss)\n",
    "TEST_ACCURACY.append(test_accuracy)\n",
    "TEST_LOSS.append(test_loss)\n",
    "\n",
    "\n",
    "with open('./figures/Net_aug_2.csv','r') as csvfile:\n",
    "    spamreader = csv.reader(csvfile,delimiter=' ')\n",
    "    for row in spamreader:\n",
    "        if row[0] == epoch_ref:\n",
    "            train_accuracy = float(row[1])\n",
    "            val_accuracy = float(row[2])\n",
    "            train_loss = float(row[3])\n",
    "            val_loss = float(row[4])\n",
    "ct = 0\n",
    "with open('./figures/best_Net_test_2.csv','r') as csvfile:\n",
    "    spamreader = csv.reader(csvfile,delimiter=' ')\n",
    "    for row in spamreader:\n",
    "        if ct == 1:\n",
    "            test_accuracy = float(row[0])\n",
    "            test_loss = float(row[1])\n",
    "        ct = ct+1\n",
    "TRAIN_ACCURACY.append(train_accuracy)\n",
    "TRAIN_LOSS.append(train_loss)\n",
    "TEST_ACCURACY.append(test_accuracy)\n",
    "TEST_LOSS.append(test_loss)\n",
    "\n",
    "with open('./figures/Net_aug_4.csv','r') as csvfile:\n",
    "    spamreader = csv.reader(csvfile,delimiter=' ')\n",
    "    for row in spamreader:\n",
    "        if row[0] == epoch_ref:\n",
    "            train_accuracy = float(row[1])\n",
    "            val_accuracy = float(row[2])\n",
    "            train_loss = float(row[3])\n",
    "            val_loss = float(row[4])\n",
    "ct = 0\n",
    "with open('./figures/best_Net_test_4.csv','r') as csvfile:\n",
    "    spamreader = csv.reader(csvfile,delimiter=' ')\n",
    "    for row in spamreader:\n",
    "        if ct == 1:\n",
    "            test_accuracy = float(row[0])\n",
    "            test_loss = float(row[1])\n",
    "        ct = ct+1\n",
    "TRAIN_ACCURACY.append(train_accuracy)\n",
    "TRAIN_LOSS.append(train_loss)\n",
    "TEST_ACCURACY.append(test_accuracy)\n",
    "TEST_LOSS.append(test_loss)\n",
    "\n",
    "with open('./figures/Net_aug_8.csv','r') as csvfile:\n",
    "    spamreader = csv.reader(csvfile,delimiter=' ')\n",
    "    for row in spamreader:\n",
    "        if row[0] == epoch_ref:\n",
    "            train_accuracy = float(row[1])\n",
    "            val_accuracy = float(row[2])\n",
    "            train_loss = float(row[3])\n",
    "            val_loss = float(row[4])\n",
    "ct = 0\n",
    "with open('./figures/best_Net_test_8.csv','r') as csvfile:\n",
    "    spamreader = csv.reader(csvfile,delimiter=' ')\n",
    "    for row in spamreader:\n",
    "        if ct == 1:\n",
    "            test_accuracy = float(row[0])\n",
    "            test_loss = float(row[1])\n",
    "        ct = ct+1\n",
    "TRAIN_ACCURACY.append(train_accuracy)\n",
    "TRAIN_LOSS.append(train_loss)\n",
    "TEST_ACCURACY.append(test_accuracy)\n",
    "TEST_LOSS.append(test_loss)\n",
    "\n",
    "\n",
    "with open('./figures/Net_aug_16.csv','r') as csvfile:\n",
    "    spamreader = csv.reader(csvfile,delimiter=' ')\n",
    "    for row in spamreader:\n",
    "        if row[0] == epoch_ref:\n",
    "            train_accuracy = float(row[1])\n",
    "            val_accuracy = float(row[2])\n",
    "            train_loss = float(row[3])\n",
    "            val_loss = float(row[4])\n",
    "ct = 0\n",
    "with open('./figures/best_Net_test_16.csv','r') as csvfile:\n",
    "    spamreader = csv.reader(csvfile,delimiter=' ')\n",
    "    for row in spamreader:\n",
    "        if ct == 1:\n",
    "            test_accuracy = float(row[0])\n",
    "            test_loss = float(row[1])\n",
    "        ct = ct+1\n",
    "TRAIN_ACCURACY.append(train_accuracy)\n",
    "TRAIN_LOSS.append(train_loss)\n",
    "TEST_ACCURACY.append(test_accuracy)\n",
    "TEST_LOSS.append(test_loss)\n",
    "\n",
    "\n",
    "\n"
   ]
  },
  {
   "cell_type": "code",
   "execution_count": 129,
   "metadata": {},
   "outputs": [
    {
     "data": {
      "text/plain": [
       "[0.0013839310267940164,\n",
       " 0.0015350672183558345,\n",
       " 0.0020080790854990482,\n",
       " 0.0028808917850255966,\n",
       " 0.003641788847744465]"
      ]
     },
     "execution_count": 129,
     "metadata": {},
     "output_type": "execute_result"
    }
   ],
   "source": [
    "TRAIN_LOSS"
   ]
  },
  {
   "cell_type": "code",
   "execution_count": 146,
   "metadata": {},
   "outputs": [
    {
     "data": {
      "image/png": "[encoded data removed]",
      "text/plain": [
       "<Figure size 720x216 with 2 Axes>"
      ]
     },
     "metadata": {
      "needs_background": "light"
     },
     "output_type": "display_data"
    }
   ],
   "source": [
    "plt.figure(figsize=(10,3))\n",
    "plt.subplot(1,2,1)\n",
    "plt.loglog(N,TRAIN_LOSS,label='training')\n",
    "plt.loglog(N,TEST_LOSS,label='test')\n",
    "plt.xlabel('number of training samples')\n",
    "plt.ylabel('loss')\n",
    "plt.legend()\n",
    "plt.subplot(1,2,2)\n",
    "plt.semilogx(N,TRAIN_ACCURACY,label='training')\n",
    "plt.semilogx(N,TEST_ACCURACY,label='test')\n",
    "plt.xlabel('number of training samples')\n",
    "plt.ylabel('accuracy')\n",
    "plt.legend()\n",
    "plt.tight_layout()\n",
    "plt.savefig('./figures/sample_size2.png')"
   ]
  },
  {
   "cell_type": "markdown",
   "metadata": {},
   "source": [
    "# 8 b"
   ]
  },
  {
   "cell_type": "code",
   "execution_count": 210,
   "metadata": {},
   "outputs": [],
   "source": [
    "class Net(nn.Module):\n",
    "    '''\n",
    "    Build the best MNIST classifier.\n",
    "    '''\n",
    "    def __init__(self):\n",
    "        super(Net, self).__init__()\n",
    "        self.conv1 = nn.Conv2d(in_channels=1, out_channels=8, kernel_size=(3,3), stride=1)\n",
    "     \n",
    "        self.dropout1 = nn.Dropout2d(.1)\n",
    "     \n",
    "        self.fc0 = nn.Linear(1352, 64)\n",
    "        self.fc1 = nn.Linear(64, 10)\n",
    "    \n",
    "\n",
    "    def forward(self, x):\n",
    "        x = self.conv1(x)\n",
    "        x = F.relu(x)\n",
    "        x = F.avg_pool2d(x, 2)\n",
    "        x = self.dropout1(x)\n",
    "\n",
    "        x = torch.flatten(x, 1)\n",
    "        x = self.fc0(x)\n",
    "        x = F.relu(x)\n",
    "        x = self.fc1(x)\n",
    "        \n",
    "        output = F.log_softmax(x, dim=1)\n",
    "        return output\n",
    "def test(model, device, test_loader):\n",
    "    model.eval()    # Set the model to inference mode\n",
    "    test_loss = 0\n",
    "    correct = 0\n",
    "    with torch.no_grad():   # For the inference step, gradient is not computed\n",
    "        for data, target in test_loader:\n",
    "            data, target = data.to(device), target.to(device)\n",
    "            output = model(data)\n",
    "            test_loss += F.nll_loss(output, target, reduction='sum').item()  # sum up batch loss\n",
    "            pred = output.argmax(dim=1, keepdim=True)  # get the index of the max log-probability\n",
    "            correct += pred.eq(target.view_as(pred)).sum().item()\n",
    "\n",
    "    test_loss /= len(test_loader.sampler)\n",
    "    \n",
    "    accuracy = correct / len(test_loader.sampler)\n",
    "    print('\\nTest set: Average loss: {:.4f}, Accuracy: {}/{} ({:.0f}%)\\n'.format(\n",
    "        test_loss, correct, len(test_loader.sampler),\n",
    "        100. * correct / len(test_loader.sampler)))\n",
    "    return pred,target\n",
    "\n"
   ]
  },
  {
   "cell_type": "code",
   "execution_count": 87,
   "metadata": {},
   "outputs": [
    {
     "name": "stdout",
     "output_type": "stream",
     "text": [
      "\n",
      "Test set: Average loss: 0.0613, Accuracy: 9813/10000 (98%)\n",
      "\n"
     ]
    }
   ],
   "source": [
    "model_dir = './best_mnist_model_2.pt'\n",
    "\n",
    "# Set the test model\n",
    "model = Net().to(device)\n",
    "device = 'cpu'\n",
    "model.load_state_dict(torch.load(model_dir))\n",
    "\n",
    "test_dataset = datasets.MNIST('../data', train=False,\n",
    "            transform=transforms.Compose([\n",
    "                transforms.ToTensor(),\n",
    "                transforms.Normalize((0.1307,), (0.3081,))\n",
    "            ]))\n",
    "\n",
    "test_loader = torch.utils.data.DataLoader(\n",
    "            test_dataset, batch_size=10000, shuffle=False)\n",
    "\n",
    "prediction,target = test(model, device, test_loader)\n",
    "#         import csv\n",
    "#         exp_name = 'best_Net_test_full'\n",
    "#         with open('./figures/'+exp_name+'.csv', 'w', newline='') as csvfile:\n",
    "#             spamwriter = csv.writer(csvfile, delimiter=' ',\n",
    "#                                 quotechar='|', quoting=csv.QUOTE_MINIMAL)\n",
    "#             spamwriter.writerow(['TEST_ACCURACY','TEST_LOSS'])\n",
    "#             spamwriter.writerow([test_accuracy,test_loss])\n",
    "   "
   ]
  },
  {
   "cell_type": "code",
   "execution_count": 88,
   "metadata": {},
   "outputs": [
    {
     "data": {
      "text/plain": [
       "10000"
      ]
     },
     "execution_count": 88,
     "metadata": {},
     "output_type": "execute_result"
    }
   ],
   "source": [
    "len(target)"
   ]
  },
  {
   "cell_type": "code",
   "execution_count": 89,
   "metadata": {},
   "outputs": [
    {
     "data": {
      "text/plain": [
       "10000"
      ]
     },
     "execution_count": 89,
     "metadata": {},
     "output_type": "execute_result"
    }
   ],
   "source": [
    "len(prediction)"
   ]
  },
  {
   "cell_type": "code",
   "execution_count": 90,
   "metadata": {},
   "outputs": [],
   "source": [
    "prediction = np.array(prediction).reshape(-1)\n",
    "target = np.array(target)"
   ]
  },
  {
   "cell_type": "code",
   "execution_count": 91,
   "metadata": {},
   "outputs": [],
   "source": [
    "ind = np.where((prediction-target)!=0)[0]"
   ]
  },
  {
   "cell_type": "code",
   "execution_count": 98,
   "metadata": {},
   "outputs": [],
   "source": [
    "train_loader_all_aug = torch.utils.data.DataLoader(test_dataset)\n",
    "examples = enumerate(train_loader_all_aug)\n",
    "train_raw_idx = []\n",
    "train_raw_data = []\n",
    "train_raw_target = []\n",
    "for i in examples:\n",
    "        train_raw_idx.append(i[0])\n",
    "        train_raw_data.append(i[1][0].numpy()[0])\n",
    "        train_raw_target.append(i[1][1].numpy()[0])"
   ]
  },
  {
   "cell_type": "code",
   "execution_count": 102,
   "metadata": {},
   "outputs": [
    {
     "data": {
      "text/plain": [
       "(1, 28, 28)"
      ]
     },
     "execution_count": 102,
     "metadata": {},
     "output_type": "execute_result"
    }
   ],
   "source": [
    "train_raw_data[ind[0]].shape"
   ]
  },
  {
   "cell_type": "code",
   "execution_count": 207,
   "metadata": {},
   "outputs": [
    {
     "data": {
      "image/png": "[encoded data removed]",
      "text/plain": [
       "<Figure size 1000x1000 with 9 Axes>"
      ]
     },
     "metadata": {
      "needs_background": "light"
     },
     "output_type": "display_data"
    }
   ],
   "source": [
    "plt.figure(figsize=(10,10),dpi=100)\n",
    "for i in range(9):\n",
    "    plt.subplot(3,3,i+1)\n",
    "#     plt.figure()\n",
    "    plt.imshow(train_raw_data[ind[i]].reshape(28,28),cmap='gray_r')\n",
    "    plt.title('(%d) target:%d, prediction:%d'%(i+1,target[ind[i]],prediction[ind[i]]))\n",
    "plt.tight_layout()\n",
    "plt.savefig('./figures/wrong.png')"
   ]
  },
  {
   "cell_type": "code",
   "execution_count": 111,
   "metadata": {},
   "outputs": [
    {
     "name": "stdout",
     "output_type": "stream",
     "text": [
      "0 4 2\n",
      "\n",
      "1 6 0\n",
      "\n",
      "2 2 7\n",
      "\n",
      "3 9 4\n",
      "\n",
      "4 6 0\n",
      "\n",
      "5 8 2\n",
      "\n",
      "6 1 8\n",
      "\n",
      "7 2 1\n",
      "\n",
      "8 0 6\n",
      "\n"
     ]
    }
   ],
   "source": [
    "for i in range(9):\n",
    "    print(i,target[ind[i]],prediction[ind[i]])\n",
    "    print()"
   ]
  },
  {
   "cell_type": "markdown",
   "metadata": {},
   "source": [
    "# 8c"
   ]
  },
  {
   "cell_type": "code",
   "execution_count": 185,
   "metadata": {},
   "outputs": [
    {
     "data": {
      "image/png": "[encoded data removed]",
      "text/plain": [
       "<Figure size 500x500 with 8 Axes>"
      ]
     },
     "metadata": {
      "needs_background": "light"
     },
     "output_type": "display_data"
    }
   ],
   "source": [
    "plt.figure(figsize=(10,10),dpi=50)\n",
    "for i in range(8):\n",
    "    plt.subplot(3,3,i+1)\n",
    "    \n",
    "    kernel = np.empty((3,3))\n",
    "    for j in range(3):\n",
    "        for k in range(3):\n",
    "            kernel[j,k] = kernels[i][0][j][k].item()\n",
    "            \n",
    "    plt.imshow(kernel,cmap='gray_r')\n",
    "plt.savefig('./figures/kernels.png')"
   ]
  },
  {
   "cell_type": "markdown",
   "metadata": {},
   "source": [
    "# 8d"
   ]
  },
  {
   "cell_type": "code",
   "execution_count": 199,
   "metadata": {},
   "outputs": [
    {
     "data": {
      "text/plain": [
       "array([[ 968,    0,    1,    0,    0,    0,    5,    1,    3,    2],\n",
       "       [   0, 1124,    1,    3,    0,    0,    3,    0,    4,    0],\n",
       "       [   1,    6, 1011,    0,    2,    0,    1,    7,    4,    0],\n",
       "       [   0,    0,    5,  995,    0,    2,    0,    4,    3,    1],\n",
       "       [   0,    1,    1,    1,  964,    0,    3,    0,    2,   10],\n",
       "       [   3,    0,    0,    4,    0,  880,    3,    1,    1,    0],\n",
       "       [   6,    3,    0,    1,    1,    1,  940,    0,    6,    0],\n",
       "       [   2,    2,   10,    3,    0,    0,    0, 1002,    1,    8],\n",
       "       [   4,    1,    1,    4,    3,    4,    1,    2,  951,    3],\n",
       "       [   5,    5,    2,    5,    5,    0,    0,    8,    1,  978]])"
      ]
     },
     "execution_count": 199,
     "metadata": {},
     "output_type": "execute_result"
    }
   ],
   "source": [
    "from sklearn.metrics import confusion_matrix\n",
    "\n",
    "y_true = target.copy()\n",
    "y_pred = prediction.copy()\n",
    "cmatrix = confusion_matrix(y_true,y_pred,labels=np.arange(10))\n",
    "cmatrix"
   ]
  },
  {
   "cell_type": "code",
   "execution_count": 205,
   "metadata": {},
   "outputs": [
    {
     "data": {
      "image/png": "[encoded data removed]",
      "text/plain": [
       "<Figure size 720x720 with 2 Axes>"
      ]
     },
     "metadata": {
      "needs_background": "light"
     },
     "output_type": "display_data"
    }
   ],
   "source": [
    "import seaborn as sns\n",
    "plt.figure(figsize=(10,10))\n",
    "ax = sns.heatmap(cmatrix, cmap=\"YlGnBu\",annot=True, fmt=\"d\")\n",
    "plt.savefig('./figures/confusion_matrix.png')"
   ]
  },
  {
   "cell_type": "code",
   "execution_count": 209,
   "metadata": {},
   "outputs": [
    {
     "data": {
      "text/plain": [
       "Linear(in_features=64, out_features=10, bias=True)"
      ]
     },
     "execution_count": 209,
     "metadata": {},
     "output_type": "execute_result"
    }
   ],
   "source": [
    "model.fc1"
   ]
  },
  {
   "cell_type": "code",
   "execution_count": 20,
   "metadata": {},
   "outputs": [
    {
     "ename": "RuntimeError",
     "evalue": "Error(s) in loading state_dict for Net:\n\tMissing key(s) in state_dict: \"bn1.weight\", \"bn1.bias\", \"bn1.running_mean\", \"bn1.running_var\". \n\tUnexpected key(s) in state_dict: \"conv3.weight\", \"conv3.bias\", \"fc0.weight\", \"fc0.bias\". ",
     "output_type": "error",
     "traceback": [
      "\u001b[0;31m---------------------------------------------------------------------------\u001b[0m",
      "\u001b[0;31mRuntimeError\u001b[0m                              Traceback (most recent call last)",
      "\u001b[0;32m<ipython-input-20-ca0b5dab45a9>\u001b[0m in \u001b[0;36m<module>\u001b[0;34m\u001b[0m\n\u001b[1;32m      1\u001b[0m \u001b[0mdevice\u001b[0m\u001b[0;34m=\u001b[0m\u001b[0;34m'cpu'\u001b[0m\u001b[0;34m\u001b[0m\u001b[0;34m\u001b[0m\u001b[0m\n\u001b[1;32m      2\u001b[0m \u001b[0mmodel\u001b[0m \u001b[0;34m=\u001b[0m \u001b[0mNet\u001b[0m\u001b[0;34m(\u001b[0m\u001b[0;34m)\u001b[0m\u001b[0;34m.\u001b[0m\u001b[0mto\u001b[0m\u001b[0;34m(\u001b[0m\u001b[0mdevice\u001b[0m\u001b[0;34m)\u001b[0m\u001b[0;34m\u001b[0m\u001b[0;34m\u001b[0m\u001b[0m\n\u001b[0;32m----> 3\u001b[0;31m \u001b[0mmodel\u001b[0m\u001b[0;34m.\u001b[0m\u001b[0mload_state_dict\u001b[0m\u001b[0;34m(\u001b[0m\u001b[0mtorch\u001b[0m\u001b[0;34m.\u001b[0m\u001b[0mload\u001b[0m\u001b[0;34m(\u001b[0m\u001b[0;34m'./mnist_model.pt'\u001b[0m\u001b[0;34m)\u001b[0m\u001b[0;34m)\u001b[0m\u001b[0;34m\u001b[0m\u001b[0;34m\u001b[0m\u001b[0m\n\u001b[0m\u001b[1;32m      4\u001b[0m \u001b[0;34m\u001b[0m\u001b[0m\n\u001b[1;32m      5\u001b[0m test_dataset = datasets.MNIST('./data', train=False,\n",
      "\u001b[0;32m~/anaconda3/lib/python3.7/site-packages/torch/nn/modules/module.py\u001b[0m in \u001b[0;36mload_state_dict\u001b[0;34m(self, state_dict, strict)\u001b[0m\n\u001b[1;32m    845\u001b[0m         \u001b[0;32mif\u001b[0m \u001b[0mlen\u001b[0m\u001b[0;34m(\u001b[0m\u001b[0merror_msgs\u001b[0m\u001b[0;34m)\u001b[0m \u001b[0;34m>\u001b[0m \u001b[0;36m0\u001b[0m\u001b[0;34m:\u001b[0m\u001b[0;34m\u001b[0m\u001b[0;34m\u001b[0m\u001b[0m\n\u001b[1;32m    846\u001b[0m             raise RuntimeError('Error(s) in loading state_dict for {}:\\n\\t{}'.format(\n\u001b[0;32m--> 847\u001b[0;31m                                self.__class__.__name__, \"\\n\\t\".join(error_msgs)))\n\u001b[0m\u001b[1;32m    848\u001b[0m         \u001b[0;32mreturn\u001b[0m \u001b[0m_IncompatibleKeys\u001b[0m\u001b[0;34m(\u001b[0m\u001b[0mmissing_keys\u001b[0m\u001b[0;34m,\u001b[0m \u001b[0munexpected_keys\u001b[0m\u001b[0;34m)\u001b[0m\u001b[0;34m\u001b[0m\u001b[0;34m\u001b[0m\u001b[0m\n\u001b[1;32m    849\u001b[0m \u001b[0;34m\u001b[0m\u001b[0m\n",
      "\u001b[0;31mRuntimeError\u001b[0m: Error(s) in loading state_dict for Net:\n\tMissing key(s) in state_dict: \"bn1.weight\", \"bn1.bias\", \"bn1.running_mean\", \"bn1.running_var\". \n\tUnexpected key(s) in state_dict: \"conv3.weight\", \"conv3.bias\", \"fc0.weight\", \"fc0.bias\". "
     ]
    }
   ],
   "source": [
    "device='cpu'\n",
    "model = Net().to(device)\n",
    "model.load_state_dict(torch.load('./mnist_model.pt'))\n",
    "\n",
    "test_dataset = datasets.MNIST('./data', train=False,\n",
    "            transform=transforms.Compose([\n",
    "                transforms.ToTensor(),\n",
    "                transforms.Normalize((0.1307,), (0.3081,))\n",
    "            ]))\n",
    "\n",
    "test_loader = torch.utils.data.DataLoader(\n",
    "    test_dataset, batch_size=1000, shuffle=True)\n",
    "\n",
    "# test(model, device, test_loader)\n"
   ]
  },
  {
   "cell_type": "code",
   "execution_count": null,
   "metadata": {},
   "outputs": [],
   "source": []
  }
 ],
 "metadata": {
  "kernelspec": {
   "display_name": "Python 3",
   "language": "python",
   "name": "python3"
  },
  "language_info": {
   "codemirror_mode": {
    "name": "ipython",
    "version": 3
   },
   "file_extension": ".py",
   "mimetype": "text/x-python",
   "name": "python",
   "nbconvert_exporter": "python",
   "pygments_lexer": "ipython3",
   "version": "3.7.3"
  }
 },
 "nbformat": 4,
 "nbformat_minor": 2
}
